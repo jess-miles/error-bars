{
 "cells": [
  {
   "cell_type": "markdown",
   "metadata": {},
   "source": [
    "# Introduction\n",
    "\n",
    "This notebook uses a [salary dataset from Kaggle](https://www.kaggle.com/nilimajauhari/glassdoor-analyze-gender-pay-gap) which originally came from GlassDoor. Using this sample data, I show examples of different ways to create error bars for a Medium blog post."
   ]
  },
  {
   "cell_type": "code",
   "execution_count": 32,
   "metadata": {
    "ExecuteTime": {
     "end_time": "2021-09-29T21:17:01.577661Z",
     "start_time": "2021-09-29T21:17:01.069484Z"
    }
   },
   "outputs": [],
   "source": [
    "import pandas as pd\n",
    "import matplotlib.pyplot as plt\n",
    "import matplotlib.ticker as mticker\n",
    "import seaborn as sns"
   ]
  },
  {
   "cell_type": "markdown",
   "metadata": {},
   "source": [
    "# Data Gathering and Cleaning"
   ]
  },
  {
   "cell_type": "code",
   "execution_count": 2,
   "metadata": {
    "ExecuteTime": {
     "end_time": "2021-09-29T20:44:29.791860Z",
     "start_time": "2021-09-29T20:44:29.634025Z"
    }
   },
   "outputs": [
    {
     "data": {
      "text/html": [
       "<div>\n",
       "<style scoped>\n",
       "    .dataframe tbody tr th:only-of-type {\n",
       "        vertical-align: middle;\n",
       "    }\n",
       "\n",
       "    .dataframe tbody tr th {\n",
       "        vertical-align: top;\n",
       "    }\n",
       "\n",
       "    .dataframe thead th {\n",
       "        text-align: right;\n",
       "    }\n",
       "</style>\n",
       "<table border=\"1\" class=\"dataframe\">\n",
       "  <thead>\n",
       "    <tr style=\"text-align: right;\">\n",
       "      <th></th>\n",
       "      <th>JobTitle</th>\n",
       "      <th>Gender</th>\n",
       "      <th>Age</th>\n",
       "      <th>PerfEval</th>\n",
       "      <th>Education</th>\n",
       "      <th>Dept</th>\n",
       "      <th>Seniority</th>\n",
       "      <th>BasePay</th>\n",
       "      <th>Bonus</th>\n",
       "    </tr>\n",
       "  </thead>\n",
       "  <tbody>\n",
       "    <tr>\n",
       "      <th>0</th>\n",
       "      <td>Graphic Designer</td>\n",
       "      <td>Female</td>\n",
       "      <td>18</td>\n",
       "      <td>5</td>\n",
       "      <td>College</td>\n",
       "      <td>Operations</td>\n",
       "      <td>2</td>\n",
       "      <td>42363</td>\n",
       "      <td>9938</td>\n",
       "    </tr>\n",
       "    <tr>\n",
       "      <th>1</th>\n",
       "      <td>Software Engineer</td>\n",
       "      <td>Male</td>\n",
       "      <td>21</td>\n",
       "      <td>5</td>\n",
       "      <td>College</td>\n",
       "      <td>Management</td>\n",
       "      <td>5</td>\n",
       "      <td>108476</td>\n",
       "      <td>11128</td>\n",
       "    </tr>\n",
       "    <tr>\n",
       "      <th>2</th>\n",
       "      <td>Warehouse Associate</td>\n",
       "      <td>Female</td>\n",
       "      <td>19</td>\n",
       "      <td>4</td>\n",
       "      <td>PhD</td>\n",
       "      <td>Administration</td>\n",
       "      <td>5</td>\n",
       "      <td>90208</td>\n",
       "      <td>9268</td>\n",
       "    </tr>\n",
       "    <tr>\n",
       "      <th>3</th>\n",
       "      <td>Software Engineer</td>\n",
       "      <td>Male</td>\n",
       "      <td>20</td>\n",
       "      <td>5</td>\n",
       "      <td>Masters</td>\n",
       "      <td>Sales</td>\n",
       "      <td>4</td>\n",
       "      <td>108080</td>\n",
       "      <td>10154</td>\n",
       "    </tr>\n",
       "    <tr>\n",
       "      <th>4</th>\n",
       "      <td>Graphic Designer</td>\n",
       "      <td>Male</td>\n",
       "      <td>26</td>\n",
       "      <td>5</td>\n",
       "      <td>Masters</td>\n",
       "      <td>Engineering</td>\n",
       "      <td>5</td>\n",
       "      <td>99464</td>\n",
       "      <td>9319</td>\n",
       "    </tr>\n",
       "  </tbody>\n",
       "</table>\n",
       "</div>"
      ],
      "text/plain": [
       "              JobTitle  Gender  Age  PerfEval Education            Dept  \\\n",
       "0     Graphic Designer  Female   18         5   College      Operations   \n",
       "1    Software Engineer    Male   21         5   College      Management   \n",
       "2  Warehouse Associate  Female   19         4       PhD  Administration   \n",
       "3    Software Engineer    Male   20         5   Masters           Sales   \n",
       "4     Graphic Designer    Male   26         5   Masters     Engineering   \n",
       "\n",
       "   Seniority  BasePay  Bonus  \n",
       "0          2    42363   9938  \n",
       "1          5   108476  11128  \n",
       "2          5    90208   9268  \n",
       "3          4   108080  10154  \n",
       "4          5    99464   9319  "
      ]
     },
     "execution_count": 2,
     "metadata": {},
     "output_type": "execute_result"
    }
   ],
   "source": [
    "df = pd.read_csv('data/Glassdoor Gender Pay Gap.csv')\n",
    "df.head()"
   ]
  },
  {
   "cell_type": "code",
   "execution_count": 3,
   "metadata": {
    "ExecuteTime": {
     "end_time": "2021-09-29T20:46:17.792565Z",
     "start_time": "2021-09-29T20:46:17.740235Z"
    },
    "scrolled": true
   },
   "outputs": [
    {
     "name": "stdout",
     "output_type": "stream",
     "text": [
      "<class 'pandas.core.frame.DataFrame'>\n",
      "RangeIndex: 1000 entries, 0 to 999\n",
      "Data columns (total 9 columns):\n",
      " #   Column     Non-Null Count  Dtype \n",
      "---  ------     --------------  ----- \n",
      " 0   JobTitle   1000 non-null   object\n",
      " 1   Gender     1000 non-null   object\n",
      " 2   Age        1000 non-null   int64 \n",
      " 3   PerfEval   1000 non-null   int64 \n",
      " 4   Education  1000 non-null   object\n",
      " 5   Dept       1000 non-null   object\n",
      " 6   Seniority  1000 non-null   int64 \n",
      " 7   BasePay    1000 non-null   int64 \n",
      " 8   Bonus      1000 non-null   int64 \n",
      "dtypes: int64(5), object(4)\n",
      "memory usage: 70.4+ KB\n"
     ]
    }
   ],
   "source": [
    "df.info()"
   ]
  },
  {
   "cell_type": "code",
   "execution_count": 4,
   "metadata": {
    "ExecuteTime": {
     "end_time": "2021-09-29T20:47:18.277625Z",
     "start_time": "2021-09-29T20:47:18.189081Z"
    }
   },
   "outputs": [
    {
     "data": {
      "text/html": [
       "<div>\n",
       "<style scoped>\n",
       "    .dataframe tbody tr th:only-of-type {\n",
       "        vertical-align: middle;\n",
       "    }\n",
       "\n",
       "    .dataframe tbody tr th {\n",
       "        vertical-align: top;\n",
       "    }\n",
       "\n",
       "    .dataframe thead th {\n",
       "        text-align: right;\n",
       "    }\n",
       "</style>\n",
       "<table border=\"1\" class=\"dataframe\">\n",
       "  <thead>\n",
       "    <tr style=\"text-align: right;\">\n",
       "      <th></th>\n",
       "      <th>Age</th>\n",
       "      <th>PerfEval</th>\n",
       "      <th>Seniority</th>\n",
       "      <th>BasePay</th>\n",
       "      <th>Bonus</th>\n",
       "    </tr>\n",
       "  </thead>\n",
       "  <tbody>\n",
       "    <tr>\n",
       "      <th>count</th>\n",
       "      <td>1000.000000</td>\n",
       "      <td>1000.000000</td>\n",
       "      <td>1000.000000</td>\n",
       "      <td>1000.000000</td>\n",
       "      <td>1000.000000</td>\n",
       "    </tr>\n",
       "    <tr>\n",
       "      <th>mean</th>\n",
       "      <td>41.393000</td>\n",
       "      <td>3.037000</td>\n",
       "      <td>2.971000</td>\n",
       "      <td>94472.653000</td>\n",
       "      <td>6467.161000</td>\n",
       "    </tr>\n",
       "    <tr>\n",
       "      <th>std</th>\n",
       "      <td>14.294856</td>\n",
       "      <td>1.423959</td>\n",
       "      <td>1.395029</td>\n",
       "      <td>25337.493272</td>\n",
       "      <td>2004.377365</td>\n",
       "    </tr>\n",
       "    <tr>\n",
       "      <th>min</th>\n",
       "      <td>18.000000</td>\n",
       "      <td>1.000000</td>\n",
       "      <td>1.000000</td>\n",
       "      <td>34208.000000</td>\n",
       "      <td>1703.000000</td>\n",
       "    </tr>\n",
       "    <tr>\n",
       "      <th>25%</th>\n",
       "      <td>29.000000</td>\n",
       "      <td>2.000000</td>\n",
       "      <td>2.000000</td>\n",
       "      <td>76850.250000</td>\n",
       "      <td>4849.500000</td>\n",
       "    </tr>\n",
       "    <tr>\n",
       "      <th>50%</th>\n",
       "      <td>41.000000</td>\n",
       "      <td>3.000000</td>\n",
       "      <td>3.000000</td>\n",
       "      <td>93327.500000</td>\n",
       "      <td>6507.000000</td>\n",
       "    </tr>\n",
       "    <tr>\n",
       "      <th>75%</th>\n",
       "      <td>54.250000</td>\n",
       "      <td>4.000000</td>\n",
       "      <td>4.000000</td>\n",
       "      <td>111558.000000</td>\n",
       "      <td>8026.000000</td>\n",
       "    </tr>\n",
       "    <tr>\n",
       "      <th>max</th>\n",
       "      <td>65.000000</td>\n",
       "      <td>5.000000</td>\n",
       "      <td>5.000000</td>\n",
       "      <td>179726.000000</td>\n",
       "      <td>11293.000000</td>\n",
       "    </tr>\n",
       "  </tbody>\n",
       "</table>\n",
       "</div>"
      ],
      "text/plain": [
       "               Age     PerfEval    Seniority        BasePay         Bonus\n",
       "count  1000.000000  1000.000000  1000.000000    1000.000000   1000.000000\n",
       "mean     41.393000     3.037000     2.971000   94472.653000   6467.161000\n",
       "std      14.294856     1.423959     1.395029   25337.493272   2004.377365\n",
       "min      18.000000     1.000000     1.000000   34208.000000   1703.000000\n",
       "25%      29.000000     2.000000     2.000000   76850.250000   4849.500000\n",
       "50%      41.000000     3.000000     3.000000   93327.500000   6507.000000\n",
       "75%      54.250000     4.000000     4.000000  111558.000000   8026.000000\n",
       "max      65.000000     5.000000     5.000000  179726.000000  11293.000000"
      ]
     },
     "execution_count": 4,
     "metadata": {},
     "output_type": "execute_result"
    }
   ],
   "source": [
    "df.describe()"
   ]
  },
  {
   "cell_type": "code",
   "execution_count": 7,
   "metadata": {
    "ExecuteTime": {
     "end_time": "2021-09-29T20:50:20.266393Z",
     "start_time": "2021-09-29T20:50:20.132829Z"
    }
   },
   "outputs": [
    {
     "data": {
      "text/plain": [
       "Marketing Associate    118\n",
       "Software Engineer      109\n",
       "Financial Analyst      107\n",
       "Data Scientist         107\n",
       "Graphic Designer        98\n",
       "IT                      96\n",
       "Sales Associate         94\n",
       "Driver                  91\n",
       "Warehouse Associate     90\n",
       "Manager                 90\n",
       "Name: JobTitle, dtype: int64"
      ]
     },
     "metadata": {},
     "output_type": "display_data"
    },
    {
     "name": "stdout",
     "output_type": "stream",
     "text": [
      "\n"
     ]
    },
    {
     "data": {
      "text/plain": [
       "Male      532\n",
       "Female    468\n",
       "Name: Gender, dtype: int64"
      ]
     },
     "metadata": {},
     "output_type": "display_data"
    },
    {
     "name": "stdout",
     "output_type": "stream",
     "text": [
      "\n"
     ]
    },
    {
     "data": {
      "text/plain": [
       "High School    265\n",
       "Masters        256\n",
       "College        241\n",
       "PhD            238\n",
       "Name: Education, dtype: int64"
      ]
     },
     "metadata": {},
     "output_type": "display_data"
    },
    {
     "name": "stdout",
     "output_type": "stream",
     "text": [
      "\n"
     ]
    },
    {
     "data": {
      "text/plain": [
       "Operations        210\n",
       "Sales             207\n",
       "Management        198\n",
       "Administration    193\n",
       "Engineering       192\n",
       "Name: Dept, dtype: int64"
      ]
     },
     "metadata": {},
     "output_type": "display_data"
    },
    {
     "name": "stdout",
     "output_type": "stream",
     "text": [
      "\n"
     ]
    }
   ],
   "source": [
    "cols = ['JobTitle', 'Gender', 'Education', 'Dept']\n",
    "\n",
    "for col in cols:\n",
    "    display(df[col].value_counts())\n",
    "    print()\n",
    "    "
   ]
  },
  {
   "cell_type": "markdown",
   "metadata": {},
   "source": [
    "We have a set of 1000 observations, so certainly only a sample of employees across GlassDoor. There are some pieces of information that I don't know (such as where geographically the employees are located) or how many different companies they were pulled from. However, there seems to be a decent representation of employees from different educational backgrounds, genders, and the subset of titles included here."
   ]
  },
  {
   "cell_type": "markdown",
   "metadata": {},
   "source": [
    "# Exploration"
   ]
  },
  {
   "cell_type": "code",
   "execution_count": 45,
   "metadata": {
    "ExecuteTime": {
     "end_time": "2021-09-29T21:38:19.619376Z",
     "start_time": "2021-09-29T21:38:19.506060Z"
    }
   },
   "outputs": [
    {
     "name": "stdout",
     "output_type": "stream",
     "text": [
      "Gender: Female\n"
     ]
    },
    {
     "data": {
      "text/plain": [
       "count       468.000000\n",
       "mean      89942.818376\n",
       "std       24378.277510\n",
       "min       34208.000000\n",
       "25%       73186.250000\n",
       "50%       89913.500000\n",
       "75%      106923.250000\n",
       "max      160614.000000\n",
       "Name: BasePay, dtype: float64"
      ]
     },
     "metadata": {},
     "output_type": "display_data"
    },
    {
     "name": "stdout",
     "output_type": "stream",
     "text": [
      "\n",
      "Gender: Male\n"
     ]
    },
    {
     "data": {
      "text/plain": [
       "count       532.000000\n",
       "mean      98457.545113\n",
       "std       25517.520327\n",
       "min       36642.000000\n",
       "25%       81452.500000\n",
       "50%       98223.000000\n",
       "75%      115606.250000\n",
       "max      179726.000000\n",
       "Name: BasePay, dtype: float64"
      ]
     },
     "metadata": {},
     "output_type": "display_data"
    },
    {
     "name": "stdout",
     "output_type": "stream",
     "text": [
      "\n"
     ]
    }
   ],
   "source": [
    "genders = ['Female', 'Male']\n",
    "mean_salaries = {}\n",
    "\n",
    "for gender in genders:\n",
    "    print(f\"Gender: {gender}\")\n",
    "    display(df.loc[df['Gender'] == gender, 'BasePay'].describe())\n",
    "    mean_salaries[f\"{gender} Mean Salary\"] = df.loc[df['Gender'] == gender, 'BasePay'].mean()\n",
    "    print()"
   ]
  },
  {
   "cell_type": "markdown",
   "metadata": {},
   "source": [
    "Let's take a look at the distributions of BasePay for Males and Females."
   ]
  },
  {
   "cell_type": "code",
   "execution_count": 68,
   "metadata": {
    "ExecuteTime": {
     "end_time": "2021-09-29T21:48:33.396070Z",
     "start_time": "2021-09-29T21:48:33.332583Z"
    }
   },
   "outputs": [],
   "source": [
    "# custom color palette\n",
    "gender_palette = sns.color_palette(palette=['deeppink','darkblue'])\n",
    "\n",
    "# set Seaborn style\n",
    "sns.set_style(\"whitegrid\")\n",
    "\n",
    "# custom currency format\n",
    "def format_currency(x, pos):\n",
    "    if abs(x) >= 1000000000:\n",
    "        return '${:1.2f}B'.format(x*1e-9)\n",
    "    # over 10 million\n",
    "    elif abs(x) >= 10000000:\n",
    "        return '${:1.1f}M'.format(x*1e-6)\n",
    "    # over 1 million\n",
    "    elif abs(x) >= 1000000:\n",
    "        return '${:1.2f}M'.format(x*1e-6)\n",
    "    elif x == 0:\n",
    "        return '${:0}'.format(x)\n",
    "    elif abs(x) >= 1000:\n",
    "        return '${:1.1f}K'.format(x*1e-3)\n",
    "    else:\n",
    "        return '${:.1f}'.format(x)"
   ]
  },
  {
   "cell_type": "code",
   "execution_count": 69,
   "metadata": {
    "ExecuteTime": {
     "end_time": "2021-09-29T21:48:34.582639Z",
     "start_time": "2021-09-29T21:48:34.003568Z"
    }
   },
   "outputs": [
    {
     "data": {
      "image/png": "[encoded data removed]",
      "text/plain": [
       "<Figure size 576x432 with 1 Axes>"
      ]
     },
     "metadata": {},
     "output_type": "display_data"
    }
   ],
   "source": [
    "# create figure\n",
    "fig, ax = plt.subplots(figsize=(8, 6))\n",
    "sns.histplot(data=df, x='BasePay', hue='Gender', bins=50, ax=ax, \n",
    "             palette=gender_palette, legend=True)\n",
    "\n",
    "ax.set_title('Base Salary Distribution by Gender')\n",
    "ax.set_xlabel('Base Salary')\n",
    "ax.set_xlabel('Emplpyee Count')\n",
    "ax.xaxis.set_major_formatter(mticker.FuncFormatter(format_currency));"
   ]
  },
  {
   "cell_type": "markdown",
   "metadata": {},
   "source": [
    "Salaries for Male employees do extend into a higher range than that for Females, and Female salaries have more in the lower range."
   ]
  },
  {
   "cell_type": "code",
   "execution_count": 70,
   "metadata": {
    "ExecuteTime": {
     "end_time": "2021-09-29T21:48:39.694974Z",
     "start_time": "2021-09-29T21:48:39.429647Z"
    },
    "scrolled": false
   },
   "outputs": [
    {
     "data": {
      "image/png": "[encoded data removed]",
      "text/plain": [
       "<Figure size 576x432 with 1 Axes>"
      ]
     },
     "metadata": {},
     "output_type": "display_data"
    }
   ],
   "source": [
    "# custom color palette\n",
    "gender_palette2 = sns.color_palette(palette=['deeppink','dodgerblue'])\n",
    "\n",
    "# create figure\n",
    "fig, ax = plt.subplots(figsize=(8, 6))\n",
    "sns.barplot(data=df, y='BasePay', x='Gender', ax=ax, \n",
    "             palette=gender_palette2, capsize=0.05)\n",
    "\n",
    "ax.set_title('Base Salary Distribution by Gender')\n",
    "ax.set_ylabel('Base Salary')\n",
    "ax.yaxis.set_major_formatter(mticker.FuncFormatter(format_currency));"
   ]
  },
  {
   "cell_type": "markdown",
   "metadata": {},
   "source": [
    "First, let's think about what our data represents and what we're really trying to answer. \n",
    "\n",
    "We have a dataset of 1000 employees and their salaries. Although there are some variables we can't be sure have been controlled for (such as age and geographical location) we do appear to have a pretty even distribution of genders, education levels, and titles in this sample. We'll assume here that our sample of 1000 employees is representative of a  population of employees in an industry such as tech.\n",
    "\n",
    "We can easily calculate the mean salaries for males versus females in our sample and see which is larger. In our sample, the mean male salary is about $8,500 greater than the mean female salary.\n",
    "\n",
    "However, typically we're less interested in the exact statistics of our sample set, and more interested in the question of whether this holds true for the entire population. How confident should we be that the sample means are representative of the true population means? To answer this question, we can use statistics such as how much natural variation there is in the data (the standard deviation of our sample) and the size of our sample to estimate the standard error of the mean, or how much we estimate our sample mean will differ from the population mean in either direction.\n",
    "\n",
    "Each random sample from the greater population will have slightly different values, so the mean would be slightly different too. Each sample mean will differ slightly from the population mean, and multiple sample means will also differ from each other. The Central Limit Theorem states that if we were to repeat the random sampling process over and over and record the means of each sample, the mean of sample means would get closer and closer to the true population mean the more samples we pulled. Since we typically don't have access to the full population, we can't perform this many different random samples. \n",
    "\n",
    "However, bootstrapping is one way we can approximate this process, even though we're using data from only a single sample. Using bootstrapping, we can generate a bunch of random samples with replacement from our existing sample data, and calculate the means and mean of sample means. The standard deviation of the resampled means is a good estimate of the standard error of any given sample mean from the population."
   ]
  },
  {
   "cell_type": "markdown",
   "metadata": {},
   "source": [
    "Here, we've used the default 68% confidence interval that Seaborn calculates for us using bootstrapping. Bootstrapping is resampling the dataset with replacement many times, and calculating the mean of each new sample and recording it. At the end, we're left with a set of sample means. If we get the mean of bootstrapped sample means, we can use this as a good estimate of our population, and we can use the standard deviation of the sample means as a good representation of the standard error. This method can be used in place of the usual formula to estimate standard error when we have only a single sample, which would be standard deviation of the single sample / sqrt n.\n",
    "\n",
    "Error bars that use the standard error are showing by how much we would expect the mean of the sample we did use to differ from the true population mean. When evaluating standard error bars, therefore we're checking...?\n",
    "\n",
    "The default confidence interval that Seaborn plots is 95%, although we can adjust that if we want."
   ]
  },
  {
   "cell_type": "code",
   "execution_count": null,
   "metadata": {},
   "outputs": [],
   "source": []
  }
 ],
 "metadata": {
  "kernelspec": {
   "display_name": "learn-env2a",
   "language": "python",
   "name": "learn-env2a"
  },
  "language_info": {
   "codemirror_mode": {
    "name": "ipython",
    "version": 3
   },
   "file_extension": ".py",
   "mimetype": "text/x-python",
   "name": "python",
   "nbconvert_exporter": "python",
   "pygments_lexer": "ipython3",
   "version": "3.8.5"
  },
  "toc": {
   "base_numbering": 1,
   "nav_menu": {},
   "number_sections": true,
   "sideBar": true,
   "skip_h1_title": false,
   "title_cell": "Table of Contents",
   "title_sidebar": "Contents",
   "toc_cell": false,
   "toc_position": {},
   "toc_section_display": true,
   "toc_window_display": true
  }
 },
 "nbformat": 4,
 "nbformat_minor": 4
}
